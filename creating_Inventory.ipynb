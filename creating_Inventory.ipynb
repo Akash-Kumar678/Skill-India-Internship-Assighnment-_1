{
  "nbformat": 4,
  "nbformat_minor": 0,
  "metadata": {
    "colab": {
      "name": "creating_Inventory.ipynb",
      "provenance": [],
      "collapsed_sections": []
    },
    "kernelspec": {
      "name": "python3",
      "display_name": "Python 3"
    },
    "language_info": {
      "name": "python"
    }
  },
  "cells": [
    {
      "cell_type": "code",
      "metadata": {
        "id": "hYNPV0M1pG6P"
      },
      "source": [
        "import json\n",
        "\n",
        "#creating Inventory records\n",
        "all_items = {1001:{\"name\":\"KitKat\",\"qty\":20,\"price\":5},1002:{\"name\":\"Fizz\",\"qty\":40,\"price\":15},1003:{\"name\":\"Maaza\",\"qty\":90,\"price\":40},1004:{\"name\":\"Candy\",\"qty\":70,\"price\":2}\n",
        "             ,1005:{\"name\":\"Spirit\",\"qty\":30,\"price\":28},1006:{\"name\":\"Coca-cola\",\"qty\":70,\"price\":25}\n",
        "             ,1007:{\"name\":\"Fanta\",\"qty\":77,\"price\":26},1008:{\"name\":\"Amul\",\"qty\":45,\"price\":18}\n",
        "             ,1009:{\"name\":\"Pepsi\",\"qty\":60,\"price\":44},1010:{\"name\":\"Dairy Milk\",\"qty\":75,\"price\":20}\n",
        "             ,1011:{\"name\":\"Munch\",\"qty\":10,\"price\":10},1012:{\"name\":\"Perk\",\"qty\":90,\"price\":5}\n",
        "             ,1013:{\"name\":\"Eclairs\",\"qty\":150,\"price\":2},1014:{\"name\":\"Mango Sip\",\"qty\":40,\"price\":40}\n",
        "             ,1015:{\"name\":\"Slice\",\"qty\":30,\"price\":35},1016:{\"name\":\"Mountain Dew\",\"qty\":100,\"price\":24}\n",
        "             ,1017:{\"name\":\"Nestle\",\"qty\":55,\"price\":27},1018:{\"name\":\"Snickers\",\"qty\":100,\"price\":10}\n",
        "             ,1019:{\"name\":\"Mars\",\"qty\":50,\"price\":15},1020:{\"name\":\"Bounty\",\"qty\":20,\"price\":10}\n",
        "             ,1021:{\"name\":\"Safari\",\"qty\":67,\"price\":10},1022:{\"name\":\"Lotte Chocco Pie\",\"qty\":40,\"price\":10}\n",
        "             ,1023:{\"name\":\"Thums Up\",\"qty\":50,\"price\":24},1024:{\"name\":\"Limca\",\"qty\":30,\"price\":28}\n",
        "             ,1025:{\"name\":\"7up\",\"qty\":10,\"price\":23},1026:{\"name\":\"Mirinda\",\"qty\":20,\"price\":22}\n",
        "             ,1027:{\"name\":\"Frooti\",\"qty\":30,\"price\":15},1028:{\"name\":\"Melody\",\"qty\":100,\"price\":2}\n",
        "             ,1029:{\"name\":\"Pulse\",\"qty\":80,\"price\":1},1030:{\"name\":\"Gems\",\"qty\":110,\"price\":10}}\n",
        "\n",
        "\n",
        "\n",
        "#converting dictionary to string or Json form\n",
        "js = json.dumps(all_items)\n",
        "\n",
        "#creating File record.json that holds all the inventory record\n",
        "fs = open(\"record.json\",\"w\")\n",
        "fs.write(js)\n",
        "fs.close()"
      ],
      "execution_count": 2,
      "outputs": []
    },
    {
      "cell_type": "code",
      "metadata": {
        "id": "30Divi0TqjqU"
      },
      "source": [
        ""
      ],
      "execution_count": null,
      "outputs": []
    }
  ]
}